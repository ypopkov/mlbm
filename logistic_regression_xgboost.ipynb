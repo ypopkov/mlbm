{
 "cells": [
  {
   "cell_type": "code",
   "execution_count": 28,
   "metadata": {
    "collapsed": false,
    "deletable": true,
    "editable": true
   },
   "outputs": [],
   "source": [
    "import xgboost as xgb\n",
    "import matplotlib as mpl\n",
    "import sklearn"
   ]
  },
  {
   "cell_type": "code",
   "execution_count": 19,
   "metadata": {
    "collapsed": false,
    "deletable": true,
    "editable": true
   },
   "outputs": [
    {
     "name": "stdout",
     "output_type": "stream",
     "text": [
      "11940760 7158 970902 7158\n"
     ]
    }
   ],
   "source": [
    "train = xgb.DMatrix('./data/train/train_libsvm.txt')\n",
    "test = xgb.DMatrix('./data/test/test_libsvm.txt')\n",
    "print train.num_row(), train.num_col(), test.num_row(), test.num_col()"
   ]
  },
  {
   "cell_type": "code",
   "execution_count": null,
   "metadata": {
    "collapsed": false,
    "deletable": true,
    "editable": true,
    "scrolled": true
   },
   "outputs": [],
   "source": [
    "# CPU times: user 4h 10s, sys: 9.43 s, total: 4h 19s\n",
    "# Wall time: 48min 22s\n",
    "param = {'max_depth':6, 'eta':0.05, 'silent':1, 'objective':'binary:logistic', 'min_child_weight':10, \n",
    "         'eval_metric':'auc', 'subsample': 1.0, 'colsample_bytree': 0.8, 'booster':'gbtree', 'nthread': 8,\n",
    "         'tree_method': 'exact'}\n",
    "n_trees = 500\n",
    "watchlist  = [(train,'train'), (test,'eval')]\n",
    "%time bst = xgb.train(param, train, n_trees, watchlist)\n",
    "bst.save_model('./data/model/xgboost_exact.model')"
   ]
  },
  {
   "cell_type": "code",
   "execution_count": null,
   "metadata": {
    "collapsed": false
   },
   "outputs": [],
   "source": [
    "# CPU times: user 4h 1s, sys: 10.2 s, total: 4h 11s\n",
    "# Wall time: 48min 35s\n",
    "param = {'max_depth':6, 'eta':0.05, 'silent':1, 'objective':'binary:logistic', 'min_child_weight':10, \n",
    "         'eval_metric':'auc', 'subsample': 1.0, 'colsample_bytree': 0.8, 'booster':'gbtree', 'nthread': 8,\n",
    "         'tree_method': 'approx'}\n",
    "n_trees = 500\n",
    "watchlist  = [(train,'train'), (test,'eval')]\n",
    "%time bst = xgb.train(param, train, n_trees, watchlist)\n",
    "bst.save_model('./data/model/xgboost_approx.model')"
   ]
  },
  {
   "cell_type": "code",
   "execution_count": null,
   "metadata": {
    "collapsed": false
   },
   "outputs": [],
   "source": [
    "# CPU times: user 49min 2s, sys: 1.1 s, total: 49min 3s\n",
    "# Wall time: 12min 50s\n",
    "param = {'max_depth':6, 'eta':0.05, 'silent':1, 'objective':'binary:logistic', 'min_child_weight':10, \n",
    "         'eval_metric':'auc', 'subsample': 1.0, 'colsample_bytree': 0.8, 'booster':'gbtree', 'nthread': 8,\n",
    "         'tree_method': 'hist'}\n",
    "n_trees = 500\n",
    "watchlist  = [(train,'train'), (test,'eval')]\n",
    "%time bst = xgb.train(param, train, n_trees, watchlist)\n",
    "bst.save_model('./data/model/xgboost_hist.model')"
   ]
  },
  {
   "cell_type": "code",
   "execution_count": null,
   "metadata": {
    "collapsed": false
   },
   "outputs": [],
   "source": [
    "# CPU times: user 4h 36min 28s, sys: 6.07 s, total: 4h 36min 34s\n",
    "# Wall time: 45min 4s\n",
    "param = {'max_depth':0, 'eta':0.05, 'silent':1, 'objective':'binary:logistic', 'min_child_weight':10, \n",
    "         'eval_metric':'auc', 'subsample': 1.0, 'colsample_bytree': 0.8, 'booster':'gbtree', 'nthread':8,\n",
    "         'tree_method':'hist', 'grow_policy':'lossguide', 'max_leaves':255}\n",
    "n_trees = 500\n",
    "watchlist  = [(train,'train'), (test,'eval')]\n",
    "%time bst = xgb.train(param, train, n_trees, watchlist)\n",
    "bst.save_model('./data/model/xgboost_hist1.model')"
   ]
  },
  {
   "cell_type": "code",
   "execution_count": null,
   "metadata": {
    "collapsed": false
   },
   "outputs": [],
   "source": [
    "# CPU times: user 4h 56min 29s, sys: 9.1 s, total: 4h 56min 38s\n",
    "# Wall time: 45min 2s\n",
    "param = {'max_depth':0, 'eta':0.05, 'silent':1, 'objective':'binary:logistic', 'min_child_weight':10, \n",
    "         'eval_metric':'auc', 'subsample': 1.0, 'colsample_bytree': 0.8, 'booster':'gbtree', 'nthread':8,\n",
    "         'tree_method':'hist', 'grow_policy':'lossguide', 'max_leaves':511}\n",
    "n_trees = 350 # starts overfitting after 350 iterations\n",
    "watchlist  = [(train,'train'), (test,'eval')]\n",
    "%time bst = xgb.train(param, train, n_trees, watchlist)\n",
    "bst.save_model('./data/model/xgboost_hist2.model')"
   ]
  },
  {
   "cell_type": "code",
   "execution_count": 41,
   "metadata": {
    "collapsed": false
   },
   "outputs": [],
   "source": [
    "bst.load_model('./data/model/xgboost_exact.model')\n",
    "prob_exact = bst.predict(test)\n",
    "bst.load_model('./data/model/xgboost_approx.model')\n",
    "prob_approx = bst.predict(test)\n",
    "bst.load_model('./data/model/xgboost_hist.model')\n",
    "prob_hist = bst.predict(test)\n",
    "bst.load_model('./data/model/xgboost_hist1.model')\n",
    "prob_hist1 = bst.predict(test)\n",
    "bst.load_model('./data/model/xgboost_hist2.model')\n",
    "prob_hist2 = bst.predict(test)"
   ]
  },
  {
   "cell_type": "code",
   "execution_count": 42,
   "metadata": {
    "collapsed": false
   },
   "outputs": [],
   "source": [
    "y_test = sklearn.datasets.load_svmlight_file('./data/test/test_libsvm.txt')[1]"
   ]
  },
  {
   "cell_type": "code",
   "execution_count": 53,
   "metadata": {
    "collapsed": false
   },
   "outputs": [
    {
     "name": "stdout",
     "output_type": "stream",
     "text": [
      "0.7321\n",
      "0.7321\n",
      "0.732\n",
      "0.7494\n",
      "0.7497\n"
     ]
    }
   ],
   "source": [
    "print round(sklearn.metrics.roc_auc_score(y_test, prob_exact),4)\n",
    "print round(sklearn.metrics.roc_auc_score(y_test, prob_approx),4)\n",
    "print round(sklearn.metrics.roc_auc_score(y_test, prob_hist),4)\n",
    "print round(sklearn.metrics.roc_auc_score(y_test, prob_hist1),4)\n",
    "print round(sklearn.metrics.roc_auc_score(y_test, prob_hist2),4)"
   ]
  },
  {
   "cell_type": "code",
   "execution_count": 54,
   "metadata": {
    "collapsed": false,
    "deletable": true,
    "editable": true
   },
   "outputs": [
    {
     "data": {
      "text/plain": [
       "<matplotlib.legend.Legend at 0x7ff65cdf9950>"
      ]
     },
     "execution_count": 54,
     "metadata": {},
     "output_type": "execute_result"
    },
    {
     "data": {
      "image/png": "[encoded data removed]",
      "text/plain": [
       "<matplotlib.figure.Figure at 0x7ff65cd0e290>"
      ]
     },
     "metadata": {},
     "output_type": "display_data"
    }
   ],
   "source": [
    "from sklearn.metrics import roc_curve, auc\n",
    "mpl.style.use('ggplot')\n",
    "fpr_exact, tpr_exact, _ = roc_curve(y_test, prob_exact)\n",
    "roc_auc_exact = auc(fpr_exact, tpr_exact)\n",
    "fpr_hist2, tpr_hist2, _ = roc_curve(y_test, prob_hist2)\n",
    "roc_auc_hist2 = auc(fpr_hist2, tpr_hist2)\n",
    "%matplotlib inline\n",
    "mpl.pyplot.plot(fpr_exact, tpr_exact, label='xgboost exact/approx (area = %0.4f)' % roc_auc_exact)\n",
    "mpl.pyplot.plot(fpr_hist2, tpr_hist2, label='xgboost hist2 (area = %0.4f)' % roc_auc_hist2)\n",
    "mpl.pyplot.plot([0, 1], [0, 1], 'k--')\n",
    "mpl.pyplot.xlim([0.0, 1.0])\n",
    "mpl.pyplot.ylim([0.0, 1.05])\n",
    "mpl.pyplot.xlabel('False Positive Rate')\n",
    "mpl.pyplot.ylabel('True Positive Rate')\n",
    "mpl.pyplot.title('XGBOOST performance for logistic regression')\n",
    "mpl.pyplot.legend(loc=\"lower right\")"
   ]
  }
 ],
 "metadata": {
  "kernelspec": {
   "display_name": "Python 2",
   "language": "python",
   "name": "python2"
  },
  "language_info": {
   "codemirror_mode": {
    "name": "ipython",
    "version": 2
   },
   "file_extension": ".py",
   "mimetype": "text/x-python",
   "name": "python",
   "nbconvert_exporter": "python",
   "pygments_lexer": "ipython2",
   "version": "2.7.12"
  }
 },
 "nbformat": 4,
 "nbformat_minor": 0
}
